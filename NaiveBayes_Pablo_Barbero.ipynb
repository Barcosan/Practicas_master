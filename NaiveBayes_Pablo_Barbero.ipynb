{
 "cells": [
  {
   "cell_type": "markdown",
   "metadata": {},
   "source": [
    "# Clasificador Naïve Bayes"
   ]
  },
  {
   "cell_type": "markdown",
   "metadata": {},
   "source": [
    "**Naive Bayes** es un clasificador basado en el teorema de Bayes que asume que todas las features que predicen la variable dependiente de un problema son independientes entre sí. Naïve Bayes es muy fácil de construir y muy útil para grandes datasets.\n",
    "\n",
    "El teorema de Bayes nos presenta una forma de calcular las probabilidades a posteriori dada la probabilidad de cada feature y la probabilidad a priori tal que:\n",
    "\n",
    "> $$\\mathbf{P} \\left({c \\mid x} \\right) = \\frac{\\mathbf{P} \\left ({x \\mid c} \\right) \\mathbf{P} \\left({c} \\right)}{\\mathbf{P} \\left( {x} \\right)}$$\n",
    "\n",
    "En la ecuación de arriba:\n",
    "\n",
    "* P(c|x) es la probabilidad a posteriori de la clase c dados los atributos x\n",
    "* P(c) es la probabilidad a priori de la clase **c**.\n",
    "* P(x|c) es la probabilidad de nuestro predictor **x** dada la clase **c**\n",
    "* P(x) es la probabilidad a priori de **x**.\n",
    "\n",
    "**Nota : ** La asunción de independencia nunca es correcta, pero funciona bien en la práctica"
   ]
  },
  {
   "cell_type": "code",
   "execution_count": 182,
   "metadata": {},
   "outputs": [],
   "source": [
    "import pandas as pd\n",
    "import numpy as np\n",
    "import json"
   ]
  },
  {
   "cell_type": "code",
   "execution_count": 183,
   "metadata": {},
   "outputs": [
    {
     "data": {
      "text/html": [
       "<div>\n",
       "<style scoped>\n",
       "    .dataframe tbody tr th:only-of-type {\n",
       "        vertical-align: middle;\n",
       "    }\n",
       "\n",
       "    .dataframe tbody tr th {\n",
       "        vertical-align: top;\n",
       "    }\n",
       "\n",
       "    .dataframe thead th {\n",
       "        text-align: right;\n",
       "    }\n",
       "</style>\n",
       "<table border=\"1\" class=\"dataframe\">\n",
       "  <thead>\n",
       "    <tr style=\"text-align: right;\">\n",
       "      <th></th>\n",
       "      <th>outlook</th>\n",
       "      <th>temp</th>\n",
       "      <th>humidity</th>\n",
       "      <th>windy</th>\n",
       "      <th>play</th>\n",
       "    </tr>\n",
       "  </thead>\n",
       "  <tbody>\n",
       "    <tr>\n",
       "      <th>0</th>\n",
       "      <td>sunny</td>\n",
       "      <td>hot</td>\n",
       "      <td>high</td>\n",
       "      <td>weak</td>\n",
       "      <td>no</td>\n",
       "    </tr>\n",
       "    <tr>\n",
       "      <th>1</th>\n",
       "      <td>sunny</td>\n",
       "      <td>hot</td>\n",
       "      <td>high</td>\n",
       "      <td>strong</td>\n",
       "      <td>no</td>\n",
       "    </tr>\n",
       "    <tr>\n",
       "      <th>2</th>\n",
       "      <td>overcast</td>\n",
       "      <td>hot</td>\n",
       "      <td>high</td>\n",
       "      <td>weak</td>\n",
       "      <td>yes</td>\n",
       "    </tr>\n",
       "    <tr>\n",
       "      <th>3</th>\n",
       "      <td>rainy</td>\n",
       "      <td>mild</td>\n",
       "      <td>high</td>\n",
       "      <td>weak</td>\n",
       "      <td>yes</td>\n",
       "    </tr>\n",
       "    <tr>\n",
       "      <th>4</th>\n",
       "      <td>rainy</td>\n",
       "      <td>cool</td>\n",
       "      <td>normal</td>\n",
       "      <td>weak</td>\n",
       "      <td>yes</td>\n",
       "    </tr>\n",
       "    <tr>\n",
       "      <th>5</th>\n",
       "      <td>rainy</td>\n",
       "      <td>cool</td>\n",
       "      <td>normal</td>\n",
       "      <td>strong</td>\n",
       "      <td>no</td>\n",
       "    </tr>\n",
       "    <tr>\n",
       "      <th>6</th>\n",
       "      <td>overcast</td>\n",
       "      <td>cool</td>\n",
       "      <td>normal</td>\n",
       "      <td>strong</td>\n",
       "      <td>yes</td>\n",
       "    </tr>\n",
       "    <tr>\n",
       "      <th>7</th>\n",
       "      <td>sunny</td>\n",
       "      <td>mild</td>\n",
       "      <td>high</td>\n",
       "      <td>weak</td>\n",
       "      <td>no</td>\n",
       "    </tr>\n",
       "    <tr>\n",
       "      <th>8</th>\n",
       "      <td>sunny</td>\n",
       "      <td>cool</td>\n",
       "      <td>normal</td>\n",
       "      <td>weak</td>\n",
       "      <td>yes</td>\n",
       "    </tr>\n",
       "    <tr>\n",
       "      <th>9</th>\n",
       "      <td>rainy</td>\n",
       "      <td>mild</td>\n",
       "      <td>normal</td>\n",
       "      <td>weak</td>\n",
       "      <td>yes</td>\n",
       "    </tr>\n",
       "    <tr>\n",
       "      <th>10</th>\n",
       "      <td>sunny</td>\n",
       "      <td>mild</td>\n",
       "      <td>normal</td>\n",
       "      <td>strong</td>\n",
       "      <td>yes</td>\n",
       "    </tr>\n",
       "    <tr>\n",
       "      <th>11</th>\n",
       "      <td>overcast</td>\n",
       "      <td>mild</td>\n",
       "      <td>high</td>\n",
       "      <td>strong</td>\n",
       "      <td>yes</td>\n",
       "    </tr>\n",
       "    <tr>\n",
       "      <th>12</th>\n",
       "      <td>overcast</td>\n",
       "      <td>hot</td>\n",
       "      <td>normal</td>\n",
       "      <td>weak</td>\n",
       "      <td>yes</td>\n",
       "    </tr>\n",
       "    <tr>\n",
       "      <th>13</th>\n",
       "      <td>rainy</td>\n",
       "      <td>mild</td>\n",
       "      <td>high</td>\n",
       "      <td>strong</td>\n",
       "      <td>no</td>\n",
       "    </tr>\n",
       "  </tbody>\n",
       "</table>\n",
       "</div>"
      ],
      "text/plain": [
       "     outlook  temp humidity   windy play\n",
       "0      sunny   hot     high    weak   no\n",
       "1      sunny   hot     high  strong   no\n",
       "2   overcast   hot     high    weak  yes\n",
       "3      rainy  mild     high    weak  yes\n",
       "4      rainy  cool   normal    weak  yes\n",
       "5      rainy  cool   normal  strong   no\n",
       "6   overcast  cool   normal  strong  yes\n",
       "7      sunny  mild     high    weak   no\n",
       "8      sunny  cool   normal    weak  yes\n",
       "9      rainy  mild   normal    weak  yes\n",
       "10     sunny  mild   normal  strong  yes\n",
       "11  overcast  mild     high  strong  yes\n",
       "12  overcast   hot   normal    weak  yes\n",
       "13     rainy  mild     high  strong   no"
      ]
     },
     "execution_count": 183,
     "metadata": {},
     "output_type": "execute_result"
    }
   ],
   "source": [
    "# Cargamos unos datos de prueba para construir nuestro modelo\n",
    "df = pd.read_csv('data/tennis.csv')\n",
    "df.head(20)"
   ]
  },
  {
   "cell_type": "code",
   "execution_count": 184,
   "metadata": {},
   "outputs": [],
   "source": [
    "class_name = \"play\"\n",
    "pos_class = \"yes\"\n",
    "neg_class = \"no\""
   ]
  },
  {
   "cell_type": "markdown",
   "metadata": {},
   "source": [
    "Vamos a sacar las probabilidades de clase:\n",
    "* prob_pos = P(play=yes)\n",
    "* prob_neg = P(play=no)"
   ]
  },
  {
   "cell_type": "code",
   "execution_count": 185,
   "metadata": {},
   "outputs": [
    {
     "name": "stdout",
     "output_type": "stream",
     "text": [
      "P(play=yes) = 0.6428571428571429\n",
      "P(play=no) = 0.35714285714285715\n"
     ]
    }
   ],
   "source": [
    "n_pos = len(df[df[class_name]==pos_class])\n",
    "n_neg = len(df[df[class_name]==neg_class])\n",
    "prob_pos = n_pos/len(df)\n",
    "prob_neg = n_neg/len(df)\n",
    "print(\"P({class_name}={pos_class}) = {prob_pos}\".format(class_name=class_name, pos_class=pos_class, prob_pos=prob_pos))\n",
    "print(\"P({class_name}={neg_class}) = {prob_neg}\".format(class_name=class_name, neg_class=neg_class, prob_neg=prob_neg))"
   ]
  },
  {
   "cell_type": "markdown",
   "metadata": {},
   "source": [
    "Una de las partes más difíciles, vamos a crear el modelo. El modelo puede estar escrito de muchas maneras diferentes. nosotros vamos a meter todas las probabilidades condicionales en un diccionario"
   ]
  },
  {
   "cell_type": "code",
   "execution_count": 186,
   "metadata": {},
   "outputs": [],
   "source": [
    "def probXyes(colunmName,value):\n",
    "    yes=df[colunmName][df['play']=='yes']\n",
    "    longitud=[]\n",
    "    for x in yes:\n",
    "        if x==value:\n",
    "            longitud.append(x)\n",
    "    return len(longitud)/n_pos\n",
    "\n",
    "\n",
    "def probXno(colunmName,value):\n",
    "    no=df[colunmName][df['play']=='no']\n",
    "    longitud=[]\n",
    "    for x in no:\n",
    "        if x==value:\n",
    "            longitud.append(x)\n",
    "    return len(longitud)/n_neg\n",
    "\n"
   ]
  },
  {
   "cell_type": "markdown",
   "metadata": {},
   "source": [
    "Dada una nueva instancia que hay que predecir\n",
    "\n",
    "x’=(Outlook=Sunny, Temperature=Cool, Humidity=High, Wind=Strong)"
   ]
  },
  {
   "cell_type": "markdown",
   "metadata": {},
   "source": [
    "Ahora vamos a sacar P(x∣c) y p(x):\n",
    "* prob_x_yes = P(x’|Yes)\n",
    "* prob_x_no = P(x’|No)\n",
    "* prob_x = P(x’)"
   ]
  },
  {
   "cell_type": "code",
   "execution_count": 187,
   "metadata": {},
   "outputs": [
    {
     "name": "stdout",
     "output_type": "stream",
     "text": [
      "P(x’|Yes) = 0.005291005291005291\n",
      "P(x’|No) = 0.02057142857142857\n",
      "P(x’) = 0.02586243386243386\n"
     ]
    }
   ],
   "source": [
    "prob_x_yes=probXyes('outlook', 'sunny') * probXyes('temp', 'cool')*probXyes('humidity','high')*probXyes('windy','strong')*prob_pos\n",
    "\n",
    "prob_x_no=probXno('outlook', 'sunny') * probXno('temp', 'cool')*probXno('humidity','high')*probXno('windy','strong')*prob_neg\n",
    "\n",
    "prob_x=prob_x_yes+prob_x_no\n",
    "print(\"P(x’|Yes) = {}\".format(prob_x_yes))\n",
    "print(\"P(x’|No) = {}\".format(prob_x_no))\n",
    "print(\"P(x’) = {}\".format(prob_x))"
   ]
  },
  {
   "cell_type": "markdown",
   "metadata": {},
   "source": [
    "Compro vocal y resuelvo:\n",
    "\n",
    "$$\\mathbf{P} \\left({c \\mid x} \\right) = \\frac{\\mathbf{P} \\left ({x \\mid c} \\right) \\mathbf{P} \\left({c} \\right)}{\\mathbf{P} \\left( {x} \\right)}$$\n",
    "\n",
    "Calculo aquí:\n",
    "p_pos_x = P(Yes|x’)\n",
    "p_neg_x = P(No|x’)"
   ]
  },
  {
   "cell_type": "code",
   "execution_count": 188,
   "metadata": {},
   "outputs": [
    {
     "name": "stdout",
     "output_type": "stream",
     "text": [
      "P(Yes|x’) = 0.20458265139116202\n",
      "P(No|x’) = 0.795417348608838\n"
     ]
    }
   ],
   "source": [
    "p_pos_x = prob_x_yes/prob_x\n",
    "p_neg_x = prob_x_no/prob_x\n",
    "print(\"P(Yes|x’) = {}\".format(p_pos_x))\n",
    "print(\"P(No|x’) = {}\".format(p_neg_x))"
   ]
  },
  {
   "cell_type": "markdown",
   "metadata": {},
   "source": [
    "Dejo el tenis para otro día. Con un 80% de probabilidad que no lo disfruto."
   ]
  }
 ],
 "metadata": {
  "kernelspec": {
   "display_name": "Python 3",
   "language": "python",
   "name": "python3"
  },
  "language_info": {
   "codemirror_mode": {
    "name": "ipython",
    "version": 3
   },
   "file_extension": ".py",
   "mimetype": "text/x-python",
   "name": "python",
   "nbconvert_exporter": "python",
   "pygments_lexer": "ipython3",
   "version": "3.7.6"
  }
 },
 "nbformat": 4,
 "nbformat_minor": 2
}
